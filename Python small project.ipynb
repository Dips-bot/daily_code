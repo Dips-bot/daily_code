{
 "cells": [
  {
   "cell_type": "code",
   "execution_count": 12,
   "id": "b19ca025-3372-4f30-a7bc-e2fa2332cc89",
   "metadata": {},
   "outputs": [
    {
     "name": "stdin",
     "output_type": "stream",
     "text": [
      "are you want to add another member ?(yes/exit) yes\n",
      "Enter your name dipali\n",
      "What work you have done yesterday? hhgjgjgjjhhjhhhh\n",
      "What work you are going to do today? ghfggg\n",
      "are you want to add another member ?(yes/exit) yes\n",
      "Enter your name hhhjjj\n",
      "What work you have done yesterday? hgujjj\n",
      "What work you are going to do today? hgghju\n",
      "are you want to add another member ?(yes/exit) exit\n"
     ]
    },
    {
     "name": "stdout",
     "output_type": "stream",
     "text": [
      "Data of Employees\n",
      "dipali:\n",
      "\n",
      "hhgjgjgjjhhjhhhh \n",
      "\n",
      "ghfggg \n",
      "\n",
      "hhhjjj:\n",
      "\n",
      "hgujjj \n",
      "\n",
      "hgghju \n",
      "\n"
     ]
    }
   ],
   "source": [
    "data_of_all_members=[];\n",
    "def emp():\n",
    "    name=input(\"Enter your name\");\n",
    "    workcompleted=input(\"What work you have done yesterday?\");\n",
    "    workwillcomplete=input(\"What work you are going to do today?\");\n",
    "    #add the team members data to the dictionary\n",
    "    member_data={\n",
    "        \"Name\":name,\n",
    "        \"Work_Done_Yesterday\":workcompleted,\n",
    "        \"What_work_will\": workwillcomplete\n",
    "    }\n",
    "    data_of_all_members.append(member_data);\n",
    "\n",
    "\n",
    "def agenda():\n",
    "    print(\"Data of Employees\");\n",
    "    for member in data_of_all_members:\n",
    "        \n",
    "        print(member['Name']+\":\"+\"\\n\");\n",
    "        print(member['Work_Done_Yesterday'],\"\\n\")\n",
    "        print(member['What_work_will'],\"\\n\")\n",
    "\n",
    "while(1):\n",
    "\n",
    "       question=input(\"are you want to add another member ?(yes/exit)\")\n",
    "       if(question.lower()==\"yes\"):\n",
    "           emp()\n",
    "       elif(question.lower()==\"exit\"):\n",
    "           agenda()\n",
    "           break;\n",
    "\n",
    "      \n",
    "    "
   ]
  },
  {
   "cell_type": "code",
   "execution_count": null,
   "id": "7fd50ba6-bd4e-4553-8dd4-7f206f6a79a0",
   "metadata": {},
   "outputs": [],
   "source": [
    "\n",
    "    "
   ]
  },
  {
   "cell_type": "raw",
   "id": "073bf9c6-2e25-4775-bc26-03301678b972",
   "metadata": {},
   "source": []
  },
  {
   "cell_type": "code",
   "execution_count": null,
   "id": "e3d590ce-497d-4ed6-8b86-f97e1160fefd",
   "metadata": {},
   "outputs": [],
   "source": []
  }
 ],
 "metadata": {
  "kernelspec": {
   "display_name": "Python 3 (ipykernel)",
   "language": "python",
   "name": "python3"
  },
  "language_info": {
   "codemirror_mode": {
    "name": "ipython",
    "version": 3
   },
   "file_extension": ".py",
   "mimetype": "text/x-python",
   "name": "python",
   "nbconvert_exporter": "python",
   "pygments_lexer": "ipython3",
   "version": "3.13.5"
  }
 },
 "nbformat": 4,
 "nbformat_minor": 5
}
